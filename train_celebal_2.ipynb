{
 "cells": [
  {
   "cell_type": "code",
   "execution_count": 1,
   "metadata": {},
   "outputs": [],
   "source": [
    "import torch \n",
    "from torch import nn\n",
    "from torch.utils.data import DataLoader\n",
    "\n",
    "import torchvision\n",
    "from torchvision import transforms, datasets\n",
    "\n",
    "import torchinfo\n",
    "from DCGAN2 import Generator, Discriminator, initialize_weights\n",
    "from ModelTrainer2 import train_models\n",
    "\n",
    "from typing import List, Tuple\n",
    "from pathlib import Path\n",
    "from tqdm import tqdm"
   ]
  },
  {
   "cell_type": "code",
   "execution_count": 2,
   "metadata": {},
   "outputs": [
    {
     "data": {
      "text/plain": [
       "'cuda'"
      ]
     },
     "execution_count": 2,
     "metadata": {},
     "output_type": "execute_result"
    }
   ],
   "source": [
    "# Device agnostic code\n",
    "\n",
    "if torch.cuda.is_available():\n",
    "    device = 'cuda'\n",
    "else:\n",
    "    device = 'cpu'\n",
    "device"
   ]
  },
  {
   "cell_type": "code",
   "execution_count": 3,
   "metadata": {},
   "outputs": [],
   "source": [
    "# Hyperparameters \n",
    "\n",
    "LEARNING_RATE = 2e-4\n",
    "BATCH_SIZE = 32\n",
    "IMAGE_SIZE = (64, 64)\n",
    "CHANNELS = 3\n",
    "Z_DIM = 256\n",
    "NUM_EPOCHS = 1\n",
    "DISC_HIDDEN = 128\n",
    "GEN_HIDDEN = 64\n",
    "GENERATOR_SAVE_PATH = 'Models/celebal_third_generator.pth'\n",
    "DISCRIMINATOR_SAVE_PATH = 'Models/celebal_third_discriminator.pth'\n",
    "RESULT_PATH = 'Results/Train 2'"
   ]
  },
  {
   "cell_type": "code",
   "execution_count": 4,
   "metadata": {},
   "outputs": [],
   "source": [
    "# Setting up the transforms \n",
    "\n",
    "input_transform = transforms.Compose([\n",
    "    transforms.Resize(size=IMAGE_SIZE),\n",
    "    transforms.ToTensor(),\n",
    "    transforms.Normalize(mean=[0.5]*CHANNELS, std=[0.5]*CHANNELS)\n",
    "])"
   ]
  },
  {
   "cell_type": "code",
   "execution_count": 5,
   "metadata": {},
   "outputs": [
    {
     "data": {
      "text/plain": [
       "(202599, 6332)"
      ]
     },
     "execution_count": 5,
     "metadata": {},
     "output_type": "execute_result"
    }
   ],
   "source": [
    "# Training data\n",
    "\n",
    "train_data = datasets.ImageFolder(root='celebal_data', transform=input_transform)\n",
    "dataloader = DataLoader(dataset=train_data, batch_size=BATCH_SIZE, shuffle=True)\n",
    "len(train_data), len(dataloader)"
   ]
  },
  {
   "cell_type": "code",
   "execution_count": 6,
   "metadata": {},
   "outputs": [],
   "source": [
    "# Creating model instances\n",
    "\n",
    "generator = Generator(latent_channels=Z_DIM, hidden_channels=GEN_HIDDEN, img_channels=CHANNELS).to(device)\n",
    "initialize_weights(generator)\n",
    "\n",
    "discriminator = Discriminator(in_channels=CHANNELS, hidden_channels=DISC_HIDDEN).to(device)\n",
    "initialize_weights(discriminator)"
   ]
  },
  {
   "cell_type": "code",
   "execution_count": 7,
   "metadata": {},
   "outputs": [],
   "source": [
    "# Loss function and optimizers \n",
    "\n",
    "loss_fn = nn.BCEWithLogitsLoss()\n",
    "gen_opt = torch.optim.Adam(params=generator.parameters(), lr=LEARNING_RATE, betas=(0.5, 0.999))\n",
    "disc_opt = torch.optim.Adam(params=discriminator.parameters(), lr=LEARNING_RATE, betas=(0.5, 0.999))"
   ]
  },
  {
   "cell_type": "code",
   "execution_count": 8,
   "metadata": {},
   "outputs": [
    {
     "name": "stdout",
     "output_type": "stream",
     "text": [
      "A generator does not exist in the specified path... Creating the model and training it for the specified epochs\n",
      "A discriminator does not exist in the specified path... Creating the model and training it for the specified epochs\n"
     ]
    }
   ],
   "source": [
    "# Saving and loading models\n",
    "\n",
    "model_file = Path(GENERATOR_SAVE_PATH)\n",
    "if model_file.is_file():\n",
    "    generator.load_state_dict(torch.load(f=GENERATOR_SAVE_PATH))\n",
    "    print(\"A generator aleady exists... Loading that model and training it for the specified epochs\")\n",
    "else:\n",
    "    print(\"A generator does not exist in the specified path... Creating the model and training it for the specified epochs\")\n",
    "    \n",
    "model_file = Path(DISCRIMINATOR_SAVE_PATH)\n",
    "if model_file.is_file():\n",
    "    discriminator.load_state_dict(torch.load(f=DISCRIMINATOR_SAVE_PATH))\n",
    "    print(\"A discriminator aleady exists... Loading that model and training it for the specified epochs\")\n",
    "else:\n",
    "    print(\"A discriminator does not exist in the specified path... Creating the model and training it for the specified epochs\")"
   ]
  },
  {
   "cell_type": "code",
   "execution_count": 9,
   "metadata": {},
   "outputs": [
    {
     "name": "stderr",
     "output_type": "stream",
     "text": [
      "Epoch [1/1] : 100%|██████████| 6332/6332 [3:56:17<00:00,  2.24s/it, Gen Batch Loss=1.19, Gen Loss=1.97, Disc Batch Loss=0.616, Disc Loss=0.558, Real=0.392, Fake=0.215]    \n"
     ]
    },
    {
     "data": {
      "text/plain": [
       "{'Generator Loss': [1.9661598781774448],\n",
       " 'Discriminator Loss': [0.5575076717129848]}"
      ]
     },
     "execution_count": 9,
     "metadata": {},
     "output_type": "execute_result"
    }
   ],
   "source": [
    "# Training the model \n",
    "\n",
    "train_models(generator=generator,\n",
    "             discriminator=discriminator,\n",
    "             dataloader=dataloader,\n",
    "             loss_fn=loss_fn,\n",
    "             gen_optimizer=gen_opt,\n",
    "             disc_optimizer=disc_opt,\n",
    "             BATCH_SIZE=BATCH_SIZE,\n",
    "             Z_DIM=Z_DIM,\n",
    "             NUM_EPOCHS=NUM_EPOCHS,\n",
    "             device=device,\n",
    "             gen_path=GENERATOR_SAVE_PATH,\n",
    "             disc_path=DISCRIMINATOR_SAVE_PATH, \n",
    "             result_path=RESULT_PATH)"
   ]
  },
  {
   "cell_type": "code",
   "execution_count": 10,
   "metadata": {},
   "outputs": [],
   "source": [
    "# Saving models \n",
    "\n",
    "torch.save(obj=generator.state_dict(), f=GENERATOR_SAVE_PATH)\n",
    "torch.save(obj=discriminator.state_dict(), f=DISCRIMINATOR_SAVE_PATH)"
   ]
  }
 ],
 "metadata": {
  "kernelspec": {
   "display_name": "TorchEnv2",
   "language": "python",
   "name": "python3"
  },
  "language_info": {
   "codemirror_mode": {
    "name": "ipython",
    "version": 3
   },
   "file_extension": ".py",
   "mimetype": "text/x-python",
   "name": "python",
   "nbconvert_exporter": "python",
   "pygments_lexer": "ipython3",
   "version": "3.12.4"
  }
 },
 "nbformat": 4,
 "nbformat_minor": 2
}
