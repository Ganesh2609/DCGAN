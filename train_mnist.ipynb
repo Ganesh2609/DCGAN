{
 "cells": [
  {
   "cell_type": "code",
   "execution_count": 1,
   "metadata": {},
   "outputs": [],
   "source": [
    "import torch \n",
    "from torch import nn\n",
    "from torch.utils.data import DataLoader\n",
    "\n",
    "import torchvision\n",
    "from torchvision import transforms, datasets\n",
    "\n",
    "import torchinfo\n",
    "from DCGAN import Generator, Discriminator, initialize_weights\n",
    "from ModelTrainer import train_models\n",
    "\n",
    "from typing import List, Tuple\n",
    "from pathlib import Path\n",
    "from tqdm import tqdm"
   ]
  },
  {
   "cell_type": "code",
   "execution_count": 2,
   "metadata": {},
   "outputs": [
    {
     "data": {
      "text/plain": [
       "'cuda'"
      ]
     },
     "execution_count": 2,
     "metadata": {},
     "output_type": "execute_result"
    }
   ],
   "source": [
    "# Device agnostic code\n",
    "\n",
    "if torch.cuda.is_available():\n",
    "    device = 'cuda'\n",
    "else:\n",
    "    device = 'cpu'\n",
    "device"
   ]
  },
  {
   "cell_type": "code",
   "execution_count": 3,
   "metadata": {},
   "outputs": [],
   "source": [
    "# Hyperparameters \n",
    "\n",
    "LEARNING_RATE = 2e-4\n",
    "BATCH_SIZE = 32\n",
    "IMAGE_SIZE = (64, 64)\n",
    "CHANNELS = 1\n",
    "Z_DIM = 100\n",
    "NUM_EPOCHS = 5\n",
    "DISC_HIDDEN = 64\n",
    "GEN_HIDDEN = 64\n",
    "GENERATOR_SAVE_PATH = 'Models/mnist_first_generator.pth'\n",
    "DISCRIMINATOR_SAVE_PATH = 'Models/mnist_first_discriminator.pth'"
   ]
  },
  {
   "cell_type": "code",
   "execution_count": 4,
   "metadata": {},
   "outputs": [],
   "source": [
    "# Setting up the transforms \n",
    "\n",
    "input_transform = transforms.Compose([\n",
    "    transforms.Resize(size=IMAGE_SIZE),\n",
    "    transforms.ToTensor(),\n",
    "    transforms.Normalize(mean=[0.5]*CHANNELS, std=[0.5]*CHANNELS)\n",
    "])"
   ]
  },
  {
   "cell_type": "code",
   "execution_count": 5,
   "metadata": {},
   "outputs": [],
   "source": [
    "# Training data\n",
    "\n",
    "train_data = datasets.MNIST(root='dataset/', train=True, transform=input_transform, target_transform=None, download=True)\n",
    "dataloader = DataLoader(dataset=train_data, batch_size=BATCH_SIZE, shuffle=True)"
   ]
  },
  {
   "cell_type": "code",
   "execution_count": 6,
   "metadata": {},
   "outputs": [],
   "source": [
    "# Creating model instances\n",
    "\n",
    "generator = Generator(latent_channels=Z_DIM, hidden_channels=GEN_HIDDEN, img_channels=CHANNELS).to(device)\n",
    "initialize_weights(generator)\n",
    "\n",
    "discriminator = Discriminator(in_channels=CHANNELS, hidden_channels=DISC_HIDDEN).to(device)\n",
    "initialize_weights(discriminator)"
   ]
  },
  {
   "cell_type": "code",
   "execution_count": 7,
   "metadata": {},
   "outputs": [],
   "source": [
    "# Loss function and optimizers \n",
    "\n",
    "loss_fn = nn.BCEWithLogitsLoss()\n",
    "gen_opt = torch.optim.Adam(params=generator.parameters(), lr=LEARNING_RATE, betas=(0.5, 0.999))\n",
    "disc_opt = torch.optim.Adam(params=discriminator.parameters(), lr=LEARNING_RATE, betas=(0.5, 0.999))\n",
    "gen_scaler = torch.cuda.amp.GradScaler()\n",
    "disc_scaler = torch.cuda.amp.GradScaler()"
   ]
  },
  {
   "cell_type": "code",
   "execution_count": 8,
   "metadata": {},
   "outputs": [
    {
     "name": "stdout",
     "output_type": "stream",
     "text": [
      "A generator does not exist in the specified path... Creating the model and training it for the specified epochs\n",
      "A discriminator does not exist in the specified path... Creating the model and training it for the specified epochs\n"
     ]
    }
   ],
   "source": [
    "# Saving and loading models\n",
    "\n",
    "model_file = Path(GENERATOR_SAVE_PATH)\n",
    "if model_file.is_file():\n",
    "    generator.load_state_dict(torch.load(f=GENERATOR_SAVE_PATH))\n",
    "    print(\"A generator aleady exists... Loading that model and training it for the specified epochs\")\n",
    "else:\n",
    "    print(\"A generator does not exist in the specified path... Creating the model and training it for the specified epochs\")\n",
    "    \n",
    "model_file = Path(DISCRIMINATOR_SAVE_PATH)\n",
    "if model_file.is_file():\n",
    "    discriminator.load_state_dict(torch.load(f=DISCRIMINATOR_SAVE_PATH))\n",
    "    print(\"A discriminator aleady exists... Loading that model and training it for the specified epochs\")\n",
    "else:\n",
    "    print(\"A discriminator does not exist in the specified path... Creating the model and training it for the specified epochs\")"
   ]
  },
  {
   "cell_type": "code",
   "execution_count": 9,
   "metadata": {},
   "outputs": [
    {
     "name": "stderr",
     "output_type": "stream",
     "text": [
      "Epoch [1/5] : 100%|██████████| 1875/1875 [19:34<00:00,  1.60it/s, Gen Batch Loss=2.89, Gen Loss=2.33, Disc Batch Loss=0.213, Disc Loss=0.324, Real=0.76, Fake=0.11]      \n",
      "Epoch [2/5] : 100%|██████████| 1875/1875 [19:29<00:00,  1.60it/s, Gen Batch Loss=4, Gen Loss=3.5, Disc Batch Loss=0.0373, Disc Loss=0.185, Real=0.966, Fake=0.0378]      \n",
      "Epoch [3/5] : 100%|██████████| 1875/1875 [19:23<00:00,  1.61it/s, Gen Batch Loss=0.321, Gen Loss=3.93, Disc Batch Loss=1.12, Disc Loss=0.164, Real=0.17, Fake=0.00728]   \n",
      "Epoch [4/5] : 100%|██████████| 1875/1875 [19:26<00:00,  1.61it/s, Gen Batch Loss=1.4, Gen Loss=4.14, Disc Batch Loss=0.541, Disc Loss=0.154, Real=0.435, Fake=0.000573]  \n",
      "Epoch [5/5] : 100%|██████████| 1875/1875 [19:49<00:00,  1.58it/s, Gen Batch Loss=6.04, Gen Loss=4.41, Disc Batch Loss=0.0241, Disc Loss=0.133, Real=0.969, Fake=0.0157]     \n"
     ]
    },
    {
     "data": {
      "text/plain": [
       "{'Generator Loss': [2.3328766955137255,\n",
       "  3.497848308424155,\n",
       "  3.931248655498028,\n",
       "  4.143418270414074,\n",
       "  4.408899548407023],\n",
       " 'Discriminator Loss': [0.3243900042417149,\n",
       "  0.18486669129083555,\n",
       "  0.1638568659228583,\n",
       "  0.15395608094533283,\n",
       "  0.1331067289258043]}"
      ]
     },
     "execution_count": 9,
     "metadata": {},
     "output_type": "execute_result"
    }
   ],
   "source": [
    "# Training the model \n",
    "\n",
    "train_models(generator=generator,\n",
    "             discriminator=discriminator,\n",
    "             dataloader=dataloader,\n",
    "             loss_fn=loss_fn,\n",
    "             gen_optimizer=gen_opt,\n",
    "             disc_optimizer=disc_opt,\n",
    "             gen_scaler=gen_scaler,\n",
    "             disc_scaler=disc_scaler,\n",
    "             BATCH_SIZE=BATCH_SIZE,\n",
    "             Z_DIM=Z_DIM,\n",
    "             NUM_EPOCHS=NUM_EPOCHS,\n",
    "             device=device,\n",
    "             gen_path=GENERATOR_SAVE_PATH,\n",
    "             disc_path=DISCRIMINATOR_SAVE_PATH)"
   ]
  }
 ],
 "metadata": {
  "kernelspec": {
   "display_name": "TorchEnv2",
   "language": "python",
   "name": "python3"
  },
  "language_info": {
   "codemirror_mode": {
    "name": "ipython",
    "version": 3
   },
   "file_extension": ".py",
   "mimetype": "text/x-python",
   "name": "python",
   "nbconvert_exporter": "python",
   "pygments_lexer": "ipython3",
   "version": "3.12.4"
  }
 },
 "nbformat": 4,
 "nbformat_minor": 2
}
