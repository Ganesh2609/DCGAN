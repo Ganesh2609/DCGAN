{
 "cells": [
  {
   "cell_type": "code",
   "execution_count": 1,
   "metadata": {},
   "outputs": [],
   "source": [
    "import torch \n",
    "from torch import nn\n",
    "from torchinfo import summary\n",
    "from DCGAN2 import Generator, Discriminator, initialize_weights"
   ]
  },
  {
   "cell_type": "code",
   "execution_count": 2,
   "metadata": {},
   "outputs": [],
   "source": [
    "BATCH_SIZE, IN_CHANNELS, H, W = 128, 3, 64, 64\n",
    "LATENT_CHANNELS = 100\n",
    "\n",
    "generator = Generator(latent_channels=LATENT_CHANNELS, hidden_channels=64, img_channels=IN_CHANNELS)\n",
    "discriminator = Discriminator(in_channels=IN_CHANNELS, hidden_channels=64)\n",
    "\n",
    "initialize_weights(generator)\n",
    "initialize_weights(discriminator)"
   ]
  },
  {
   "cell_type": "code",
   "execution_count": 3,
   "metadata": {},
   "outputs": [
    {
     "data": {
      "text/plain": [
       "========================================================================================================================\n",
       "Layer (type (var_name))                  Input Shape          Output Shape         Param #              Trainable\n",
       "========================================================================================================================\n",
       "Generator (Generator)                    [128, 100, 1, 1]     [128, 3, 64, 64]     --                   True\n",
       "├─Sequential (gen_net)                   [128, 100, 1, 1]     [128, 3, 64, 64]     --                   True\n",
       "│    └─Sequential (0)                    [128, 100, 1, 1]     [128, 1024, 4, 4]    --                   True\n",
       "│    │    └─ConvTranspose2d (0)          [128, 100, 1, 1]     [128, 1024, 4, 4]    1,639,424            True\n",
       "│    │    └─BatchNorm2d (1)              [128, 1024, 4, 4]    [128, 1024, 4, 4]    2,048                True\n",
       "│    │    └─ReLU (2)                     [128, 1024, 4, 4]    [128, 1024, 4, 4]    --                   --\n",
       "│    │    └─Conv2d (3)                   [128, 1024, 4, 4]    [128, 1024, 4, 4]    9,438,208            True\n",
       "│    │    └─ReLU (4)                     [128, 1024, 4, 4]    [128, 1024, 4, 4]    --                   --\n",
       "│    │    └─Conv2d (5)                   [128, 1024, 4, 4]    [128, 1024, 4, 4]    1,049,600            True\n",
       "│    │    └─BatchNorm2d (6)              [128, 1024, 4, 4]    [128, 1024, 4, 4]    2,048                True\n",
       "│    │    └─ReLU (7)                     [128, 1024, 4, 4]    [128, 1024, 4, 4]    --                   --\n",
       "│    └─Sequential (1)                    [128, 1024, 4, 4]    [128, 512, 8, 8]     --                   True\n",
       "│    │    └─ConvTranspose2d (0)          [128, 1024, 4, 4]    [128, 512, 8, 8]     8,389,120            True\n",
       "│    │    └─BatchNorm2d (1)              [128, 512, 8, 8]     [128, 512, 8, 8]     1,024                True\n",
       "│    │    └─ReLU (2)                     [128, 512, 8, 8]     [128, 512, 8, 8]     --                   --\n",
       "│    │    └─Conv2d (3)                   [128, 512, 8, 8]     [128, 512, 8, 8]     2,359,808            True\n",
       "│    │    └─ReLU (4)                     [128, 512, 8, 8]     [128, 512, 8, 8]     --                   --\n",
       "│    │    └─Conv2d (5)                   [128, 512, 8, 8]     [128, 512, 8, 8]     262,656              True\n",
       "│    │    └─BatchNorm2d (6)              [128, 512, 8, 8]     [128, 512, 8, 8]     1,024                True\n",
       "│    │    └─ReLU (7)                     [128, 512, 8, 8]     [128, 512, 8, 8]     --                   --\n",
       "│    └─Sequential (2)                    [128, 512, 8, 8]     [128, 256, 16, 16]   --                   True\n",
       "│    │    └─ConvTranspose2d (0)          [128, 512, 8, 8]     [128, 256, 16, 16]   2,097,408            True\n",
       "│    │    └─BatchNorm2d (1)              [128, 256, 16, 16]   [128, 256, 16, 16]   512                  True\n",
       "│    │    └─ReLU (2)                     [128, 256, 16, 16]   [128, 256, 16, 16]   --                   --\n",
       "│    │    └─Conv2d (3)                   [128, 256, 16, 16]   [128, 256, 16, 16]   590,080              True\n",
       "│    │    └─ReLU (4)                     [128, 256, 16, 16]   [128, 256, 16, 16]   --                   --\n",
       "│    │    └─Conv2d (5)                   [128, 256, 16, 16]   [128, 256, 16, 16]   65,792               True\n",
       "│    │    └─BatchNorm2d (6)              [128, 256, 16, 16]   [128, 256, 16, 16]   512                  True\n",
       "│    │    └─ReLU (7)                     [128, 256, 16, 16]   [128, 256, 16, 16]   --                   --\n",
       "│    └─Sequential (3)                    [128, 256, 16, 16]   [128, 128, 32, 32]   --                   True\n",
       "│    │    └─ConvTranspose2d (0)          [128, 256, 16, 16]   [128, 128, 32, 32]   524,416              True\n",
       "│    │    └─BatchNorm2d (1)              [128, 128, 32, 32]   [128, 128, 32, 32]   256                  True\n",
       "│    │    └─ReLU (2)                     [128, 128, 32, 32]   [128, 128, 32, 32]   --                   --\n",
       "│    │    └─Conv2d (3)                   [128, 128, 32, 32]   [128, 128, 32, 32]   147,584              True\n",
       "│    │    └─ReLU (4)                     [128, 128, 32, 32]   [128, 128, 32, 32]   --                   --\n",
       "│    │    └─Conv2d (5)                   [128, 128, 32, 32]   [128, 128, 32, 32]   16,512               True\n",
       "│    │    └─BatchNorm2d (6)              [128, 128, 32, 32]   [128, 128, 32, 32]   256                  True\n",
       "│    │    └─ReLU (7)                     [128, 128, 32, 32]   [128, 128, 32, 32]   --                   --\n",
       "│    └─ConvTranspose2d (4)               [128, 128, 32, 32]   [128, 3, 64, 64]     6,147                True\n",
       "│    └─Tanh (5)                          [128, 3, 64, 64]     [128, 3, 64, 64]     --                   --\n",
       "========================================================================================================================\n",
       "Total params: 26,594,435\n",
       "Trainable params: 26,594,435\n",
       "Non-trainable params: 0\n",
       "Total mult-adds (Units.GIGABYTES): 298.73\n",
       "========================================================================================================================\n",
       "Input size (MB): 0.05\n",
       "Forward/backward pass size (MB): 1270.87\n",
       "Params size (MB): 106.38\n",
       "Estimated Total Size (MB): 1377.30\n",
       "========================================================================================================================"
      ]
     },
     "execution_count": 3,
     "metadata": {},
     "output_type": "execute_result"
    }
   ],
   "source": [
    "# Generator summary \n",
    "summary(model=generator,\n",
    "        input_size=(BATCH_SIZE, LATENT_CHANNELS, 1, 1),\n",
    "        col_names=['input_size', 'output_size', 'num_params', 'trainable'],\n",
    "        col_width=20,\n",
    "        row_settings=['var_names'])"
   ]
  },
  {
   "cell_type": "code",
   "execution_count": 4,
   "metadata": {},
   "outputs": [
    {
     "data": {
      "text/plain": [
       "========================================================================================================================\n",
       "Layer (type (var_name))                  Input Shape          Output Shape         Param #              Trainable\n",
       "========================================================================================================================\n",
       "Discriminator (Discriminator)            [128, 3, 64, 64]     [128, 1]             --                   True\n",
       "├─Sequential (dis_net)                   [128, 3, 64, 64]     [128, 1]             --                   True\n",
       "│    └─Conv2d (0)                        [128, 3, 64, 64]     [128, 64, 32, 32]    3,136                True\n",
       "│    └─LeakyReLU (1)                     [128, 64, 32, 32]    [128, 64, 32, 32]    --                   --\n",
       "│    └─Sequential (2)                    [128, 64, 32, 32]    [128, 128, 16, 16]   --                   True\n",
       "│    │    └─Conv2d (0)                   [128, 64, 32, 32]    [128, 128, 16, 16]   131,200              True\n",
       "│    │    └─BatchNorm2d (1)              [128, 128, 16, 16]   [128, 128, 16, 16]   256                  True\n",
       "│    │    └─LeakyReLU (2)                [128, 128, 16, 16]   [128, 128, 16, 16]   --                   --\n",
       "│    └─Sequential (3)                    [128, 128, 16, 16]   [128, 256, 8, 8]     --                   True\n",
       "│    │    └─Conv2d (0)                   [128, 128, 16, 16]   [128, 256, 8, 8]     524,544              True\n",
       "│    │    └─BatchNorm2d (1)              [128, 256, 8, 8]     [128, 256, 8, 8]     512                  True\n",
       "│    │    └─LeakyReLU (2)                [128, 256, 8, 8]     [128, 256, 8, 8]     --                   --\n",
       "│    └─Sequential (4)                    [128, 256, 8, 8]     [128, 512, 4, 4]     --                   True\n",
       "│    │    └─Conv2d (0)                   [128, 256, 8, 8]     [128, 512, 4, 4]     2,097,664            True\n",
       "│    │    └─BatchNorm2d (1)              [128, 512, 4, 4]     [128, 512, 4, 4]     1,024                True\n",
       "│    │    └─LeakyReLU (2)                [128, 512, 4, 4]     [128, 512, 4, 4]     --                   --\n",
       "│    └─Conv2d (5)                        [128, 512, 4, 4]     [128, 1, 1, 1]       8,193                True\n",
       "│    └─Flatten (6)                       [128, 1, 1, 1]       [128, 1]             --                   --\n",
       "========================================================================================================================\n",
       "Total params: 2,766,529\n",
       "Trainable params: 2,766,529\n",
       "Non-trainable params: 0\n",
       "Total mult-adds (Units.GIGABYTES): 13.30\n",
       "========================================================================================================================\n",
       "Input size (MB): 6.29\n",
       "Forward/backward pass size (MB): 184.55\n",
       "Params size (MB): 11.07\n",
       "Estimated Total Size (MB): 201.91\n",
       "========================================================================================================================"
      ]
     },
     "execution_count": 4,
     "metadata": {},
     "output_type": "execute_result"
    }
   ],
   "source": [
    "# Discriminator summary \n",
    "summary(model=discriminator,\n",
    "        input_size=(BATCH_SIZE, IN_CHANNELS, 64, 64),\n",
    "        col_names=['input_size', 'output_size', 'num_params', 'trainable'],\n",
    "        col_width=20,\n",
    "        row_settings=['var_names'])"
   ]
  }
 ],
 "metadata": {
  "kernelspec": {
   "display_name": "TorchEnv2",
   "language": "python",
   "name": "python3"
  },
  "language_info": {
   "codemirror_mode": {
    "name": "ipython",
    "version": 3
   },
   "file_extension": ".py",
   "mimetype": "text/x-python",
   "name": "python",
   "nbconvert_exporter": "python",
   "pygments_lexer": "ipython3",
   "version": "3.12.4"
  }
 },
 "nbformat": 4,
 "nbformat_minor": 2
}
